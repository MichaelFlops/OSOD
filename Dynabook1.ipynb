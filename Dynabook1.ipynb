{
 "metadata": {
  "name": "",
  "signature": "sha256:c26a70d825415174eb77cfe49aa34ace83a36f6d768b3c300b941ae866ea6ea5"
 },
 "nbformat": 3,
 "nbformat_minor": 0,
 "worksheets": [
  {
   "cells": [
    {
     "cell_type": "heading",
     "level": 2,
     "metadata": {},
     "source": [
      "Example of Open Source Literate Dynabook: Ubnderstanding Signals"
     ]
    },
    {
     "cell_type": "markdown",
     "metadata": {},
     "source": [
      "<span><img width=100px src=\"alankay.png\"> <img width=100px src=\"rstallman.png\"><img width=100px src=\"dknuth.png\"></sp<br>"
     ]
    },
    {
     "cell_type": "markdown",
     "metadata": {},
     "source": [
      "Reference: http://docs.scipy.org/doc/scipy-dev/reference/tutorial/fftpack.html"
     ]
    },
    {
     "cell_type": "markdown",
     "metadata": {},
     "source": [
      "<p>This provides a sample to show how an author or a teacher might use an \n",
      "IPyNotebook as an \"Open Source Dynabook\" where the the reader/student can \n",
      "<b>interact</b> with his text book to learn in an immersive way the basics\n",
      "of signal processing.</p>"
     ]
    },
    {
     "cell_type": "code",
     "collapsed": false,
     "input": [
      "\n",
      "%matplotlib inline\n",
      "import matplotlib.pyplot as plt\n",
      "import networkx as nx\n",
      "import numpy as np\n",
      "from scipy.fftpack import fft, ifft\n",
      "\n",
      "from IPython.html.widgets import interact, interactive, fixed\n",
      "from IPython.html import widgets\n",
      "from IPython.display import clear_output, display, HTML"
     ],
     "language": "python",
     "metadata": {},
     "outputs": [],
     "prompt_number": 26
    },
    {
     "cell_type": "code",
     "collapsed": false,
     "input": [
      "# Number of samplepoints\n",
      "N = 600\n",
      "# sample spacing\n",
      "T = 1.0 / 800.0\n",
      "x = np.linspace(0.0, N*T, N)\n",
      "# x"
     ],
     "language": "python",
     "metadata": {},
     "outputs": [],
     "prompt_number": 31
    },
    {
     "cell_type": "code",
     "collapsed": false,
     "input": [
      "def eq1(**ka):  # a1,f1,a2,f2\n",
      "    y = ka['a1'] * np.sin(ka['f1'] * 2.0*np.pi*x) + ka['a2'] * np.sin(ka['f2'] * 2.0* np.pi * x)  \n",
      "    plt.plot(x, y); plt.grid(); plt.show()\n",
      "\n",
      "\n",
      "# eq1(1.0, 50.0, .5, 80.)\n",
      "\n",
      "interact(eq1,\n",
      "    # Temp=(0,10),            # slider?\n",
      "    # Current=(0.,10.,0.01),  # slider?\n",
      "    # z=True,                 # on/off widget   \n",
      "    # Text=u'Type here!',       # text box widget\n",
      "    #Algorithm=['This','That','Other'],\n",
      "    a1=widgets.FloatSliderWidget(min=0.0, max=1.0, step=0.01, value=1.0, description=\"Float (a)\"),\n",
      "    a2=widgets.FloatSliderWidget(min=0.0, max=1.0, step=0.01, value=.5, description=\"Float (a)\"),\n",
      "    f1=widgets.FloatSliderWidget(min=0.0, max=100.0, step=0.1, value=50.0, description=\"Float (a)\"),\n",
      "    f2=widgets.FloatSliderWidget(min=1, max=100.0, step=0.1, value=80.0, description=\"Float (a)\"))\n",
      "         "
     ],
     "language": "python",
     "metadata": {},
     "outputs": [
      {
       "metadata": {},
       "output_type": "display_data",
       "png": "[encoded data removed]",
       "text": [
        "<matplotlib.figure.Figure at 0x7fdf27b3f710>"
       ]
      }
     ],
     "prompt_number": 32
    },
    {
     "cell_type": "code",
     "collapsed": false,
     "input": [
      "def show_args(**kwargs):\n",
      "    \n",
      "    s = '<h3>Arguments:</h3><table>\\n'\n",
      "    for k,v in kwargs.items():\n",
      "        s += '<tr><td>{0}</td><td>{1}</td></tr>\\n'.format(k,v)\n",
      "    s += '</table>'\n",
      "    display(HTML(s))"
     ],
     "language": "python",
     "metadata": {},
     "outputs": [],
     "prompt_number": 11
    },
    {
     "cell_type": "code",
     "collapsed": false,
     "input": [
      "show_args(a=10, b='Hi There', c=True)"
     ],
     "language": "python",
     "metadata": {},
     "outputs": [
      {
       "html": [
        "<h3>Arguments:</h3><table>\n",
        "<tr><td>a</td><td>10</td></tr>\n",
        "<tr><td>c</td><td>True</td></tr>\n",
        "<tr><td>b</td><td>Hi There</td></tr>\n",
        "</table>"
       ],
       "metadata": {},
       "output_type": "display_data",
       "text": [
        "<IPython.core.display.HTML at 0x7f296c185a50>"
       ]
      }
     ],
     "prompt_number": 14
    },
    {
     "cell_type": "code",
     "collapsed": false,
     "input": [
      "i = interact(show_args,\n",
      "         Temp=(0,10),\n",
      "         Current=(0.,10.,0.01),\n",
      "         z=True,\n",
      "         Text=u'Type here!',\n",
      "         #Algorithm=['This','That','Other'],\n",
      "         a=widgets.FloatSliderWidget(min=-10.0, max=10.0, step=0.1, value=5.0, description=\"Float (a)\")\n",
      "         )"
     ],
     "language": "python",
     "metadata": {},
     "outputs": [
      {
       "html": [
        "<h3>Arguments:</h3><table>\n",
        "<tr><td>Current</td><td>4.86</td></tr>\n",
        "<tr><td>Text</td><td>Type here!</td></tr>\n",
        "<tr><td>z</td><td>True</td></tr>\n",
        "<tr><td>a</td><td>2.4</td></tr>\n",
        "<tr><td>Temp</td><td>5</td></tr>\n",
        "</table>"
       ],
       "metadata": {},
       "output_type": "display_data",
       "text": [
        "<IPython.core.display.HTML at 0x7f296c185a10>"
       ]
      }
     ],
     "prompt_number": 15
    },
    {
     "cell_type": "heading",
     "level": 2,
     "metadata": {},
     "source": [
      "Fourier Analysis and the FFT"
     ]
    },
    {
     "cell_type": "markdown",
     "metadata": {},
     "source": [
      "<p>Fourier analysis is a method for expressing a function as a sum of sine and cosine \n",
      "functions.  When both the function and its Fourier transforms are implented with discrete\n",
      "components it is called the Discrete Fourier Transform or DFT.  Typically it is implemented\n",
      "using the Fast Fourier Transform algorithm invented by Cooley and Tukey.  Below we show the \n",
      "formulation for the FFT in exponential form.</p>"
     ]
    },
    {
     "cell_type": "markdown",
     "metadata": {},
     "source": [
      "\\begin{equation*} y[k] = \\sum_{n=0}^{N-1} e^{-2 \\pi j \\frac{k n}{N} } x[n] \\, \\end{equation*}"
     ]
    },
    {
     "cell_type": "code",
     "collapsed": false,
     "input": [
      "x = np.array([1.0, 2.0, 1.0, -1.0, 1.5])\n",
      "y = fft(x)\n",
      "y"
     ],
     "language": "python",
     "metadata": {},
     "outputs": []
    },
    {
     "cell_type": "code",
     "collapsed": false,
     "input": [
      "yinv = ifft(y)\n",
      "yinv"
     ],
     "language": "python",
     "metadata": {},
     "outputs": []
    },
    {
     "cell_type": "code",
     "collapsed": false,
     "input": [
      "yf = fft(y)\n",
      "\n",
      "# Create N/2 evenly spaced numbers over interval: 0.0, 1.0/(2.0*T) \n",
      "xf = np.linspace(0.0, 1.0/(2.0*T), N/2)\n",
      "\n",
      "# Display all the resulting magnitude yf of frequencies from 0 to N/2 Hz.\n",
      "plt.plot(xf, 2.0/N * np.abs(yf[0:N/2]))\n",
      "plt.grid(); plt.show()"
     ],
     "language": "python",
     "metadata": {},
     "outputs": [
      {
       "metadata": {},
       "output_type": "display_data",
       "png": "[encoded data removed]",
       "text": [
        "<matplotlib.figure.Figure at 0x7f29551609d0>"
       ]
      }
     ],
     "prompt_number": 20
    }
   ],
   "metadata": {}
  }
 ]
}